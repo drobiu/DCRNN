{
 "cells": [
  {
   "cell_type": "code",
   "execution_count": 2,
   "id": "46994da9",
   "metadata": {},
   "outputs": [
    {
     "name": "stderr",
     "output_type": "stream",
     "text": [
      "Traceback (most recent call last):\n",
      "  File \"C:\\Users\\drobi\\Desktop\\uni\\CS4240\\DCRNN\\run_demo.py\", line 9, in <module>\n",
      "    from model.dcrnn_supervisor import DCRNNSupervisor\n",
      "  File \"C:\\Users\\drobi\\Desktop\\uni\\CS4240\\DCRNN\\model\\dcrnn_supervisor.py\", line 16, in <module>\n",
      "    from model.dcrnn_model import DCRNNModel\n",
      "  File \"C:\\Users\\drobi\\Desktop\\uni\\CS4240\\DCRNN\\model\\dcrnn_model.py\", line 7, in <module>\n",
      "    from tensorflow_addons import legacy_seq2seq\n",
      "ImportError: cannot import name 'legacy_seq2seq' from 'tensorflow_addons' (C:\\Users\\drobi\\Anaconda3\\lib\\site-packages\\tensorflow_addons\\__init__.py)\n"
     ]
    }
   ],
   "source": [
    "!python run_demo.py"
   ]
  },
  {
   "cell_type": "code",
   "execution_count": null,
   "id": "03339f65",
   "metadata": {},
   "outputs": [],
   "source": []
  }
 ],
 "metadata": {
  "kernelspec": {
   "display_name": "Python 3 (ipykernel)",
   "language": "python",
   "name": "python3"
  },
  "language_info": {
   "codemirror_mode": {
    "name": "ipython",
    "version": 3
   },
   "file_extension": ".py",
   "mimetype": "text/x-python",
   "name": "python",
   "nbconvert_exporter": "python",
   "pygments_lexer": "ipython3",
   "version": "3.9.12"
  }
 },
 "nbformat": 4,
 "nbformat_minor": 5
}
