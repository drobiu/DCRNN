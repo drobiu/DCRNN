{
  "cells": [
    {
      "cell_type": "code",
      "execution_count": null,
      "metadata": {
        "colab": {
          "base_uri": "https://localhost:8080/"
        },
        "id": "VgyY0njJbyFr",
        "outputId": "6bb8c3dc-21c7-4fbb-9a08-24ba4e84d492"
      },
      "outputs": [
        {
          "output_type": "stream",
          "name": "stdout",
          "text": [
            "sample_data\n"
          ]
        }
      ],
      "source": [
        "!ls"
      ]
    },
    {
      "cell_type": "code",
      "execution_count": null,
      "metadata": {
        "id": "K5NC1QG3s-1z",
        "colab": {
          "base_uri": "https://localhost:8080/"
        },
        "outputId": "fff8734b-53da-4fd8-aaac-8b0f8c687792"
      },
      "outputs": [
        {
          "output_type": "stream",
          "name": "stdout",
          "text": [
            "Mounted at /content/drive\n"
          ]
        }
      ],
      "source": [
        "from google.colab import drive\n",
        "drive.mount('/content/drive')"
      ]
    },
    {
      "cell_type": "code",
      "execution_count": null,
      "metadata": {
        "id": "aiZavoKgcHdA",
        "colab": {
          "base_uri": "https://localhost:8080/"
        },
        "outputId": "7ddd7dcb-1ca8-4fd9-b2cc-b13c5932bfa3"
      },
      "outputs": [
        {
          "output_type": "stream",
          "name": "stdout",
          "text": [
            "/content/drive/MyDrive/deep_learning\n"
          ]
        }
      ],
      "source": [
        "%cd drive/MyDrive/deep_learning/"
      ]
    },
    {
      "cell_type": "code",
      "execution_count": null,
      "metadata": {
        "id": "qTQZhH04vRzY",
        "colab": {
          "base_uri": "https://localhost:8080/"
        },
        "outputId": "02e8f7af-20fb-40b7-94b3-9acd6dad57fd"
      },
      "outputs": [
        {
          "output_type": "stream",
          "name": "stdout",
          "text": [
            "\r0% [Working]\r            \rGet:1 https://cloud.r-project.org/bin/linux/ubuntu focal-cran40/ InRelease [3,622 B]\n",
            "\r0% [Waiting for headers] [Connecting to security.ubuntu.com (185.125.190.39)] [\r0% [Waiting for headers] [Connecting to security.ubuntu.com (185.125.190.39)] [\r                                                                               \rHit:2 http://archive.ubuntu.com/ubuntu focal InRelease\n",
            "\r0% [Connecting to security.ubuntu.com (185.125.190.39)] [Connecting to ppa.laun\r                                                                               \rGet:3 http://archive.ubuntu.com/ubuntu focal-updates InRelease [114 kB]\n",
            "Hit:4 https://developer.download.nvidia.com/compute/cuda/repos/ubuntu2004/x86_64  InRelease\n",
            "Get:5 http://archive.ubuntu.com/ubuntu focal-backports InRelease [108 kB]\n",
            "Get:6 http://security.ubuntu.com/ubuntu focal-security InRelease [114 kB]\n",
            "Hit:7 http://ppa.launchpad.net/c2d4u.team/c2d4u4.0+/ubuntu focal InRelease\n",
            "Hit:8 http://ppa.launchpad.net/cran/libgit2/ubuntu focal InRelease\n",
            "Get:9 http://archive.ubuntu.com/ubuntu focal-updates/main amd64 Packages [3,075 kB]\n",
            "Get:10 http://archive.ubuntu.com/ubuntu focal-updates/universe amd64 Packages [1,324 kB]\n",
            "Hit:11 http://ppa.launchpad.net/deadsnakes/ppa/ubuntu focal InRelease\n",
            "Hit:12 http://ppa.launchpad.net/graphics-drivers/ppa/ubuntu focal InRelease\n",
            "Hit:13 http://ppa.launchpad.net/ubuntugis/ppa/ubuntu focal InRelease\n",
            "Get:14 http://security.ubuntu.com/ubuntu focal-security/main amd64 Packages [2,593 kB]\n",
            "Get:15 http://security.ubuntu.com/ubuntu focal-security/universe amd64 Packages [1,028 kB]\n",
            "Fetched 8,360 kB in 1s (5,689 kB/s)\n",
            "Reading package lists... Done\n",
            "Reading package lists... Done\n",
            "Building dependency tree       \n",
            "Reading state information... Done\n",
            "The following additional packages will be installed:\n",
            "  libpython3.6-minimal libpython3.6-stdlib python3.6-minimal\n",
            "Suggested packages:\n",
            "  python3.6-venv binfmt-support\n",
            "The following NEW packages will be installed:\n",
            "  libpython3.6-minimal libpython3.6-stdlib python3.6 python3.6-minimal\n",
            "0 upgraded, 4 newly installed, 0 to remove and 30 not upgraded.\n",
            "Need to get 4,294 kB of archives.\n",
            "After this operation, 22.1 MB of additional disk space will be used.\n",
            "Get:1 http://ppa.launchpad.net/deadsnakes/ppa/ubuntu focal/main amd64 libpython3.6-minimal amd64 3.6.15-1+focal3 [569 kB]\n",
            "Get:2 http://ppa.launchpad.net/deadsnakes/ppa/ubuntu focal/main amd64 python3.6-minimal amd64 3.6.15-1+focal3 [1,718 kB]\n",
            "Get:3 http://ppa.launchpad.net/deadsnakes/ppa/ubuntu focal/main amd64 libpython3.6-stdlib amd64 3.6.15-1+focal3 [1,758 kB]\n",
            "Get:4 http://ppa.launchpad.net/deadsnakes/ppa/ubuntu focal/main amd64 python3.6 amd64 3.6.15-1+focal3 [248 kB]\n",
            "Fetched 4,294 kB in 2s (1,846 kB/s)\n",
            "debconf: unable to initialize frontend: Dialog\n",
            "debconf: (No usable dialog-like program is installed, so the dialog based frontend cannot be used. at /usr/share/perl5/Debconf/FrontEnd/Dialog.pm line 76, <> line 4.)\n",
            "debconf: falling back to frontend: Readline\n",
            "debconf: unable to initialize frontend: Readline\n",
            "debconf: (This frontend requires a controlling tty.)\n",
            "debconf: falling back to frontend: Teletype\n",
            "dpkg-preconfigure: unable to re-open stdin: \n",
            "Selecting previously unselected package libpython3.6-minimal:amd64.\n",
            "(Reading database ... 122349 files and directories currently installed.)\n",
            "Preparing to unpack .../libpython3.6-minimal_3.6.15-1+focal3_amd64.deb ...\n",
            "Unpacking libpython3.6-minimal:amd64 (3.6.15-1+focal3) ...\n",
            "Selecting previously unselected package python3.6-minimal.\n",
            "Preparing to unpack .../python3.6-minimal_3.6.15-1+focal3_amd64.deb ...\n",
            "Unpacking python3.6-minimal (3.6.15-1+focal3) ...\n",
            "Selecting previously unselected package libpython3.6-stdlib:amd64.\n",
            "Preparing to unpack .../libpython3.6-stdlib_3.6.15-1+focal3_amd64.deb ...\n",
            "Unpacking libpython3.6-stdlib:amd64 (3.6.15-1+focal3) ...\n",
            "Selecting previously unselected package python3.6.\n",
            "Preparing to unpack .../python3.6_3.6.15-1+focal3_amd64.deb ...\n",
            "Unpacking python3.6 (3.6.15-1+focal3) ...\n",
            "Setting up libpython3.6-minimal:amd64 (3.6.15-1+focal3) ...\n",
            "Setting up python3.6-minimal (3.6.15-1+focal3) ...\n",
            "Setting up libpython3.6-stdlib:amd64 (3.6.15-1+focal3) ...\n",
            "Setting up python3.6 (3.6.15-1+focal3) ...\n",
            "Processing triggers for man-db (2.9.1-1) ...\n",
            "Processing triggers for mime-support (3.64ubuntu1) ...\n",
            "There are 3 choices for the alternative python3 (providing /usr/bin/python3).\n",
            "\n",
            "  Selection    Path                Priority   Status\n",
            "------------------------------------------------------------\n",
            "* 0            /usr/bin/python3.9   2         auto mode\n",
            "  1            /usr/bin/python3.6   1         manual mode\n",
            "  2            /usr/bin/python3.8   1         manual mode\n",
            "  3            /usr/bin/python3.9   2         manual mode\n",
            "\n",
            "Press <enter> to keep the current choice[*], or type selection number: 1\n",
            "update-alternatives: using /usr/bin/python3.6 to provide /usr/bin/python3 (python3) in manual mode\n",
            "Python 3.6.15\n",
            "Reading package lists... Done\n",
            "Building dependency tree       \n",
            "Reading state information... Done\n",
            "The following additional packages will be installed:\n",
            "  python3.6-lib2to3\n",
            "The following NEW packages will be installed:\n",
            "  python3.6-distutils python3.6-lib2to3\n",
            "0 upgraded, 2 newly installed, 0 to remove and 30 not upgraded.\n",
            "Need to get 308 kB of archives.\n",
            "After this operation, 1,232 kB of additional disk space will be used.\n",
            "Get:1 http://ppa.launchpad.net/deadsnakes/ppa/ubuntu focal/main amd64 python3.6-lib2to3 all 3.6.15-1+focal3 [122 kB]\n",
            "Get:2 http://ppa.launchpad.net/deadsnakes/ppa/ubuntu focal/main amd64 python3.6-distutils all 3.6.15-1+focal3 [187 kB]\n",
            "Fetched 308 kB in 1s (398 kB/s)\n",
            "debconf: unable to initialize frontend: Dialog\n",
            "debconf: (No usable dialog-like program is installed, so the dialog based frontend cannot be used. at /usr/share/perl5/Debconf/FrontEnd/Dialog.pm line 76, <> line 2.)\n",
            "debconf: falling back to frontend: Readline\n",
            "debconf: unable to initialize frontend: Readline\n",
            "debconf: (This frontend requires a controlling tty.)\n",
            "debconf: falling back to frontend: Teletype\n",
            "dpkg-preconfigure: unable to re-open stdin: \n",
            "Selecting previously unselected package python3.6-lib2to3.\n",
            "(Reading database ... 122960 files and directories currently installed.)\n",
            "Preparing to unpack .../python3.6-lib2to3_3.6.15-1+focal3_all.deb ...\n",
            "Unpacking python3.6-lib2to3 (3.6.15-1+focal3) ...\n",
            "Selecting previously unselected package python3.6-distutils.\n",
            "Preparing to unpack .../python3.6-distutils_3.6.15-1+focal3_all.deb ...\n",
            "Unpacking python3.6-distutils (3.6.15-1+focal3) ...\n",
            "Setting up python3.6-lib2to3 (3.6.15-1+focal3) ...\n",
            "Setting up python3.6-distutils (3.6.15-1+focal3) ...\n",
            "--2023-04-12 17:18:11--  https://bootstrap.pypa.io/get-pip.py\n",
            "Resolving bootstrap.pypa.io (bootstrap.pypa.io)... 151.101.0.175, 151.101.64.175, 151.101.128.175, ...\n",
            "Connecting to bootstrap.pypa.io (bootstrap.pypa.io)|151.101.0.175|:443... connected.\n",
            "HTTP request sent, awaiting response... 200 OK\n",
            "Length: 2574273 (2.5M) [text/x-python]\n",
            "Saving to: ‘get-pip.py.12’\n",
            "\n",
            "get-pip.py.12       100%[===================>]   2.45M  --.-KB/s    in 0.04s   \n",
            "\n",
            "2023-04-12 17:18:11 (55.4 MB/s) - ‘get-pip.py.12’ saved [2574273/2574273]\n",
            "\n",
            "ERROR: This script does not work on Python 3.6 The minimum supported Python version is 3.7. Please use https://bootstrap.pypa.io/pip/3.6/get-pip.py instead.\n",
            "Reading package lists... Done\n",
            "Building dependency tree       \n",
            "Reading state information... Done\n",
            "The following additional packages will be installed:\n",
            "  python-pip-whl python3-setuptools python3-wheel\n",
            "Suggested packages:\n",
            "  python-setuptools-doc\n",
            "The following NEW packages will be installed:\n",
            "  python-pip-whl python3-pip python3-setuptools python3-wheel\n",
            "0 upgraded, 4 newly installed, 0 to remove and 30 not upgraded.\n",
            "Need to get 2,389 kB of archives.\n",
            "After this operation, 4,933 kB of additional disk space will be used.\n",
            "Get:1 http://archive.ubuntu.com/ubuntu focal-updates/universe amd64 python-pip-whl all 20.0.2-5ubuntu1.8 [1,805 kB]\n",
            "Get:2 http://archive.ubuntu.com/ubuntu focal-updates/main amd64 python3-setuptools all 45.2.0-1ubuntu0.1 [330 kB]\n",
            "Get:3 http://archive.ubuntu.com/ubuntu focal-updates/universe amd64 python3-wheel all 0.34.2-1ubuntu0.1 [23.9 kB]\n",
            "Get:4 http://archive.ubuntu.com/ubuntu focal-updates/universe amd64 python3-pip all 20.0.2-5ubuntu1.8 [231 kB]\n",
            "Fetched 2,389 kB in 0s (16.0 MB/s)\n",
            "debconf: unable to initialize frontend: Dialog\n",
            "debconf: (No usable dialog-like program is installed, so the dialog based frontend cannot be used. at /usr/share/perl5/Debconf/FrontEnd/Dialog.pm line 76, <> line 4.)\n",
            "debconf: falling back to frontend: Readline\n",
            "debconf: unable to initialize frontend: Readline\n",
            "debconf: (This frontend requires a controlling tty.)\n",
            "debconf: falling back to frontend: Teletype\n",
            "dpkg-preconfigure: unable to re-open stdin: \n",
            "Selecting previously unselected package python-pip-whl.\n",
            "(Reading database ... 123099 files and directories currently installed.)\n",
            "Preparing to unpack .../python-pip-whl_20.0.2-5ubuntu1.8_all.deb ...\n",
            "Unpacking python-pip-whl (20.0.2-5ubuntu1.8) ...\n",
            "Selecting previously unselected package python3-setuptools.\n",
            "Preparing to unpack .../python3-setuptools_45.2.0-1ubuntu0.1_all.deb ...\n",
            "Unpacking python3-setuptools (45.2.0-1ubuntu0.1) ...\n",
            "Selecting previously unselected package python3-wheel.\n",
            "Preparing to unpack .../python3-wheel_0.34.2-1ubuntu0.1_all.deb ...\n",
            "Unpacking python3-wheel (0.34.2-1ubuntu0.1) ...\n",
            "Selecting previously unselected package python3-pip.\n",
            "Preparing to unpack .../python3-pip_20.0.2-5ubuntu1.8_all.deb ...\n",
            "Unpacking python3-pip (20.0.2-5ubuntu1.8) ...\n",
            "Setting up python3-setuptools (45.2.0-1ubuntu0.1) ...\n",
            "Setting up python3-wheel (0.34.2-1ubuntu0.1) ...\n",
            "Setting up python-pip-whl (20.0.2-5ubuntu1.8) ...\n",
            "Setting up python3-pip (20.0.2-5ubuntu1.8) ...\n",
            "Processing triggers for man-db (2.9.1-1) ...\n",
            "Looking in indexes: https://pypi.org/simple, https://us-python.pkg.dev/colab-wheels/public/simple/\n",
            "Collecting pip\n",
            "  Downloading pip-21.3.1-py3-none-any.whl (1.7 MB)\n",
            "\u001b[K     |████████████████████████████████| 1.7 MB 26.5 MB/s \n",
            "\u001b[?25hInstalling collected packages: pip\n",
            "  Attempting uninstall: pip\n",
            "    Found existing installation: pip 20.0.2\n",
            "    Not uninstalling pip at /usr/lib/python3/dist-packages, outside environment /usr\n",
            "    Can't uninstall 'pip'. No files were found to uninstall.\n",
            "Successfully installed pip-21.3.1\n"
          ]
        }
      ],
      "source": [
        "!sudo apt-get update -y\n",
        "!sudo apt-get install python3.6\n",
        "\n",
        "!sudo update-alternatives --install /usr/bin/python3 python3 /usr/bin/python3.6 1\n",
        "\n",
        "!sudo update-alternatives --config python3\n",
        "\n",
        "!python --version\n",
        "# install pip for new python \n",
        "!sudo apt-get install python3.6-distutils\n",
        "!wget https://bootstrap.pypa.io/get-pip.py\n",
        "!python get-pip.py\n",
        "# upgrade pip\n",
        "!sudo apt install python3-pip\n",
        "!python -m pip install --upgrade pip"
      ]
    },
    {
      "cell_type": "code",
      "execution_count": null,
      "metadata": {
        "colab": {
          "base_uri": "https://localhost:8080/",
          "height": 1000
        },
        "id": "94pPWFQpcOoq",
        "outputId": "6c40376a-0ad3-4aa6-82b2-530abb3781df"
      },
      "outputs": [
        {
          "output_type": "stream",
          "name": "stdout",
          "text": [
            "Looking in indexes: https://pypi.org/simple, https://us-python.pkg.dev/colab-wheels/public/simple/\n",
            "Collecting tensorflow==1.11.0\n",
            "  Downloading tensorflow-1.11.0-cp36-cp36m-manylinux1_x86_64.whl (63.0 MB)\n",
            "     |████████████████████████████████| 63.0 MB 1.1 MB/s             \n",
            "\u001b[?25hCollecting pyyaml==5.4.1\n",
            "  Downloading PyYAML-5.4.1-cp36-cp36m-manylinux1_x86_64.whl (640 kB)\n",
            "     |████████████████████████████████| 640 kB 79.4 MB/s            \n",
            "\u001b[?25hCollecting tables==3.7.0\n",
            "  Downloading tables-3.7.0-cp36-cp36m-manylinux_2_17_x86_64.manylinux2014_x86_64.whl (6.0 MB)\n",
            "     |████████████████████████████████| 6.0 MB 68.4 MB/s            \n",
            "\u001b[?25hCollecting setuptools<=39.1.0\n",
            "  Downloading setuptools-39.1.0-py2.py3-none-any.whl (566 kB)\n",
            "     |████████████████████████████████| 566 kB 69.9 MB/s            \n",
            "\u001b[?25hCollecting termcolor>=1.1.0\n",
            "  Downloading termcolor-1.1.0.tar.gz (3.9 kB)\n",
            "  Preparing metadata (setup.py) ... \u001b[?25l\u001b[?25hdone\n",
            "Collecting tensorboard<1.12.0,>=1.11.0\n",
            "  Downloading tensorboard-1.11.0-py3-none-any.whl (3.0 MB)\n",
            "     |████████████████████████████████| 3.0 MB 91.1 MB/s            \n",
            "\u001b[?25hCollecting six>=1.10.0\n",
            "  Downloading six-1.16.0-py2.py3-none-any.whl (11 kB)\n",
            "Collecting absl-py>=0.1.6\n",
            "  Downloading absl_py-1.4.0-py3-none-any.whl (126 kB)\n",
            "     |████████████████████████████████| 126 kB 72.7 MB/s            \n",
            "\u001b[?25hCollecting keras-preprocessing>=1.0.3\n",
            "  Downloading Keras_Preprocessing-1.1.2-py2.py3-none-any.whl (42 kB)\n",
            "     |████████████████████████████████| 42 kB 1.2 MB/s             \n",
            "\u001b[?25hCollecting keras-applications>=1.0.5\n",
            "  Downloading Keras_Applications-1.0.8-py3-none-any.whl (50 kB)\n",
            "     |████████████████████████████████| 50 kB 7.9 MB/s             \n",
            "\u001b[?25hRequirement already satisfied: wheel>=0.26 in /usr/lib/python3/dist-packages (from tensorflow==1.11.0) (0.34.2)\n",
            "Collecting protobuf>=3.6.0\n",
            "  Downloading protobuf-3.19.6-cp36-cp36m-manylinux_2_17_x86_64.manylinux2014_x86_64.whl (1.1 MB)\n",
            "     |████████████████████████████████| 1.1 MB 70.3 MB/s            \n",
            "\u001b[?25hCollecting grpcio>=1.8.6\n",
            "  Downloading grpcio-1.48.2-cp36-cp36m-manylinux_2_17_x86_64.manylinux2014_x86_64.whl (4.6 MB)\n",
            "     |████████████████████████████████| 4.6 MB 67.4 MB/s            \n",
            "\u001b[?25hCollecting astor>=0.6.0\n",
            "  Downloading astor-0.8.1-py2.py3-none-any.whl (27 kB)\n",
            "Collecting gast>=0.2.0\n",
            "  Downloading gast-0.5.3-py3-none-any.whl (19 kB)\n",
            "Collecting numpy>=1.13.3\n",
            "  Downloading numpy-1.19.5-cp36-cp36m-manylinux2010_x86_64.whl (14.8 MB)\n",
            "     |████████████████████████████████| 14.8 MB 51.3 MB/s            \n",
            "\u001b[?25hCollecting packaging\n",
            "  Downloading packaging-21.3-py3-none-any.whl (40 kB)\n",
            "     |████████████████████████████████| 40 kB 6.3 MB/s             \n",
            "\u001b[?25hCollecting numexpr>=2.6.2\n",
            "  Downloading numexpr-2.8.1-cp36-cp36m-manylinux_2_17_x86_64.manylinux2014_x86_64.whl (378 kB)\n",
            "     |████████████████████████████████| 378 kB 83.1 MB/s            \n",
            "\u001b[?25hCollecting h5py\n",
            "  Downloading h5py-3.1.0-cp36-cp36m-manylinux1_x86_64.whl (4.0 MB)\n",
            "     |████████████████████████████████| 4.0 MB 61.2 MB/s            \n",
            "\u001b[?25hCollecting werkzeug>=0.11.10\n",
            "  Downloading Werkzeug-2.0.3-py3-none-any.whl (289 kB)\n",
            "     |████████████████████████████████| 289 kB 79.9 MB/s            \n",
            "\u001b[?25hCollecting markdown>=2.6.8\n",
            "  Downloading Markdown-3.3.7-py3-none-any.whl (97 kB)\n",
            "     |████████████████████████████████| 97 kB 7.9 MB/s             \n",
            "\u001b[?25hCollecting pyparsing!=3.0.5,>=2.0.2\n",
            "  Downloading pyparsing-3.0.9-py3-none-any.whl (98 kB)\n",
            "     |████████████████████████████████| 98 kB 8.2 MB/s             \n",
            "\u001b[?25hCollecting importlib-metadata>=4.4\n",
            "  Downloading importlib_metadata-4.8.3-py3-none-any.whl (17 kB)\n",
            "Collecting dataclasses\n",
            "  Downloading dataclasses-0.8-py3-none-any.whl (19 kB)\n",
            "Collecting cached-property\n",
            "  Downloading cached_property-1.5.2-py2.py3-none-any.whl (7.6 kB)\n",
            "Collecting typing-extensions>=3.6.4\n",
            "  Downloading typing_extensions-4.1.1-py3-none-any.whl (26 kB)\n",
            "Collecting zipp>=0.5\n",
            "  Downloading zipp-3.6.0-py3-none-any.whl (5.3 kB)\n",
            "Building wheels for collected packages: termcolor\n",
            "  Building wheel for termcolor (setup.py) ... \u001b[?25l\u001b[?25hdone\n",
            "  Created wheel for termcolor: filename=termcolor-1.1.0-py3-none-any.whl size=4830 sha256=bea0b4d30267a43b2b304c803a47c81a7f49d49e61129471056960ca65fe66e1\n",
            "  Stored in directory: /root/.cache/pip/wheels/93/2a/eb/e58dbcbc963549ee4f065ff80a59f274cc7210b6eab962acdc\n",
            "Successfully built termcolor\n",
            "Installing collected packages: zipp, typing-extensions, six, pyparsing, numpy, importlib-metadata, dataclasses, cached-property, werkzeug, protobuf, packaging, markdown, h5py, grpcio, termcolor, tensorboard, setuptools, numexpr, keras-preprocessing, keras-applications, gast, astor, absl-py, tensorflow, tables, pyyaml\n",
            "  Attempting uninstall: setuptools\n",
            "    Found existing installation: setuptools 45.2.0\n",
            "    Uninstalling setuptools-45.2.0:\n",
            "      Successfully uninstalled setuptools-45.2.0\n",
            "Successfully installed absl-py-1.4.0 astor-0.8.1 cached-property-1.5.2 dataclasses-0.8 gast-0.5.3 grpcio-1.48.2 h5py-3.1.0 importlib-metadata-4.8.3 keras-applications-1.0.8 keras-preprocessing-1.1.2 markdown-3.3.7 numexpr-2.8.1 numpy-1.19.5 packaging-21.3 protobuf-3.19.6 pyparsing-3.0.9 pyyaml-5.4.1 setuptools-39.1.0 six-1.16.0 tables-3.7.0 tensorboard-1.11.0 tensorflow-1.11.0 termcolor-1.1.0 typing-extensions-4.1.1 werkzeug-2.0.3 zipp-3.6.0\n",
            "\u001b[33mWARNING: Running pip as the 'root' user can result in broken permissions and conflicting behaviour with the system package manager. It is recommended to use a virtual environment instead: https://pip.pypa.io/warnings/venv\u001b[0m\n"
          ]
        },
        {
          "output_type": "display_data",
          "data": {
            "application/vnd.colab-display-data+json": {
              "pip_warning": {
                "packages": [
                  "six"
                ]
              }
            }
          },
          "metadata": {}
        },
        {
          "output_type": "stream",
          "name": "stdout",
          "text": [
            "Looking in indexes: https://pypi.org/simple, https://us-python.pkg.dev/colab-wheels/public/simple/\n",
            "Collecting scipy>=0.19.0\n",
            "  Downloading scipy-1.5.4-cp36-cp36m-manylinux1_x86_64.whl (25.9 MB)\n",
            "     |████████████████████████████████| 25.9 MB 1.2 MB/s             \n",
            "\u001b[?25hRequirement already satisfied: numpy>=1.12.1 in /usr/local/lib/python3.6/dist-packages (from -r requirements.txt (line 2)) (1.19.5)\n",
            "Collecting pandas>=0.19.2\n",
            "  Downloading pandas-1.1.5-cp36-cp36m-manylinux1_x86_64.whl (9.5 MB)\n",
            "     |████████████████████████████████| 9.5 MB 76.4 MB/s            \n",
            "\u001b[?25hRequirement already satisfied: pyyaml in /usr/local/lib/python3.6/dist-packages (from -r requirements.txt (line 4)) (5.4.1)\n",
            "Collecting statsmodels\n",
            "  Downloading statsmodels-0.12.2-cp36-cp36m-manylinux1_x86_64.whl (9.5 MB)\n",
            "     |████████████████████████████████| 9.5 MB 65.8 MB/s            \n",
            "\u001b[?25hRequirement already satisfied: tensorflow>=1.3.0 in /usr/local/lib/python3.6/dist-packages (from -r requirements.txt (line 6)) (1.11.0)\n",
            "Collecting pytz>=2017.2\n",
            "  Downloading pytz-2023.3-py2.py3-none-any.whl (502 kB)\n",
            "     |████████████████████████████████| 502 kB 65.9 MB/s            \n",
            "\u001b[?25hCollecting python-dateutil>=2.7.3\n",
            "  Downloading python_dateutil-2.8.2-py2.py3-none-any.whl (247 kB)\n",
            "     |████████████████████████████████| 247 kB 65.9 MB/s            \n",
            "\u001b[?25hCollecting patsy>=0.5\n",
            "  Downloading patsy-0.5.3-py2.py3-none-any.whl (233 kB)\n",
            "     |████████████████████████████████| 233 kB 44.3 MB/s            \n",
            "\u001b[?25hRequirement already satisfied: gast>=0.2.0 in /usr/local/lib/python3.6/dist-packages (from tensorflow>=1.3.0->-r requirements.txt (line 6)) (0.5.3)\n",
            "Requirement already satisfied: termcolor>=1.1.0 in /usr/local/lib/python3.6/dist-packages (from tensorflow>=1.3.0->-r requirements.txt (line 6)) (1.1.0)\n",
            "Requirement already satisfied: setuptools<=39.1.0 in /usr/local/lib/python3.6/dist-packages (from tensorflow>=1.3.0->-r requirements.txt (line 6)) (39.1.0)\n",
            "Requirement already satisfied: astor>=0.6.0 in /usr/local/lib/python3.6/dist-packages (from tensorflow>=1.3.0->-r requirements.txt (line 6)) (0.8.1)\n",
            "Requirement already satisfied: absl-py>=0.1.6 in /usr/local/lib/python3.6/dist-packages (from tensorflow>=1.3.0->-r requirements.txt (line 6)) (1.4.0)\n",
            "Requirement already satisfied: tensorboard<1.12.0,>=1.11.0 in /usr/local/lib/python3.6/dist-packages (from tensorflow>=1.3.0->-r requirements.txt (line 6)) (1.11.0)\n",
            "Requirement already satisfied: six>=1.10.0 in /usr/local/lib/python3.6/dist-packages (from tensorflow>=1.3.0->-r requirements.txt (line 6)) (1.16.0)\n",
            "Requirement already satisfied: protobuf>=3.6.0 in /usr/local/lib/python3.6/dist-packages (from tensorflow>=1.3.0->-r requirements.txt (line 6)) (3.19.6)\n",
            "Requirement already satisfied: grpcio>=1.8.6 in /usr/local/lib/python3.6/dist-packages (from tensorflow>=1.3.0->-r requirements.txt (line 6)) (1.48.2)\n",
            "Requirement already satisfied: wheel>=0.26 in /usr/lib/python3/dist-packages (from tensorflow>=1.3.0->-r requirements.txt (line 6)) (0.34.2)\n",
            "Requirement already satisfied: keras-applications>=1.0.5 in /usr/local/lib/python3.6/dist-packages (from tensorflow>=1.3.0->-r requirements.txt (line 6)) (1.0.8)\n",
            "Requirement already satisfied: keras-preprocessing>=1.0.3 in /usr/local/lib/python3.6/dist-packages (from tensorflow>=1.3.0->-r requirements.txt (line 6)) (1.1.2)\n",
            "Requirement already satisfied: h5py in /usr/local/lib/python3.6/dist-packages (from keras-applications>=1.0.5->tensorflow>=1.3.0->-r requirements.txt (line 6)) (3.1.0)\n",
            "Requirement already satisfied: werkzeug>=0.11.10 in /usr/local/lib/python3.6/dist-packages (from tensorboard<1.12.0,>=1.11.0->tensorflow>=1.3.0->-r requirements.txt (line 6)) (2.0.3)\n",
            "Requirement already satisfied: markdown>=2.6.8 in /usr/local/lib/python3.6/dist-packages (from tensorboard<1.12.0,>=1.11.0->tensorflow>=1.3.0->-r requirements.txt (line 6)) (3.3.7)\n",
            "Requirement already satisfied: importlib-metadata>=4.4 in /usr/local/lib/python3.6/dist-packages (from markdown>=2.6.8->tensorboard<1.12.0,>=1.11.0->tensorflow>=1.3.0->-r requirements.txt (line 6)) (4.8.3)\n",
            "Requirement already satisfied: dataclasses in /usr/local/lib/python3.6/dist-packages (from werkzeug>=0.11.10->tensorboard<1.12.0,>=1.11.0->tensorflow>=1.3.0->-r requirements.txt (line 6)) (0.8)\n",
            "Requirement already satisfied: cached-property in /usr/local/lib/python3.6/dist-packages (from h5py->keras-applications>=1.0.5->tensorflow>=1.3.0->-r requirements.txt (line 6)) (1.5.2)\n",
            "Requirement already satisfied: zipp>=0.5 in /usr/local/lib/python3.6/dist-packages (from importlib-metadata>=4.4->markdown>=2.6.8->tensorboard<1.12.0,>=1.11.0->tensorflow>=1.3.0->-r requirements.txt (line 6)) (3.6.0)\n",
            "Requirement already satisfied: typing-extensions>=3.6.4 in /usr/local/lib/python3.6/dist-packages (from importlib-metadata>=4.4->markdown>=2.6.8->tensorboard<1.12.0,>=1.11.0->tensorflow>=1.3.0->-r requirements.txt (line 6)) (4.1.1)\n",
            "Installing collected packages: pytz, python-dateutil, scipy, patsy, pandas, statsmodels\n",
            "Successfully installed pandas-1.1.5 patsy-0.5.3 python-dateutil-2.8.2 pytz-2023.3 scipy-1.5.4 statsmodels-0.12.2\n",
            "\u001b[33mWARNING: Running pip as the 'root' user can result in broken permissions and conflicting behaviour with the system package manager. It is recommended to use a virtual environment instead: https://pip.pypa.io/warnings/venv\u001b[0m\n"
          ]
        },
        {
          "output_type": "display_data",
          "data": {
            "application/vnd.colab-display-data+json": {
              "pip_warning": {
                "packages": [
                  "dateutil"
                ]
              }
            }
          },
          "metadata": {}
        }
      ],
      "source": [
        "!pip install tensorflow==1.3.0 pyyaml==5.4.1 tables==3.7.0\n",
        "\n",
        "!pip install -r requirements.txt"
      ]
    },
    {
      "cell_type": "code",
      "execution_count": null,
      "metadata": {
        "id": "7CAod52Gy3M0"
      },
      "outputs": [],
      "source": [
        "!mkdir -p data/METR-LA"
      ]
    },
    {
      "cell_type": "code",
      "source": [
        "import pandas as pd\n",
        "\n",
        "sensors = [154, 155, 16, 48, 133, 123, 107, 108, 202, 120, 189, 50, 168, 37, 114, 14, 34, 137, 47, 10, 176] \n",
        "ids_strings = list(pd.read_csv('data/sensor_graph/graph_sensor_ids.txt').columns[sensors])\n",
        "\n",
        "df = pd.read_hdf('data/metr-la.h5')\n",
        "\n",
        "dfs = df[ids_strings].iloc[:10000] \n",
        "\n",
        "store = pd.HDFStore('data/metr-la-small-10000.h5')\n",
        "store.put('d1', dfs, format='table', data_columns=True)\n",
        "store.close()"
      ],
      "metadata": {
        "id": "ffp1jm9aZ08n"
      },
      "execution_count": null,
      "outputs": []
    },
    {
      "cell_type": "code",
      "execution_count": null,
      "metadata": {
        "colab": {
          "base_uri": "https://localhost:8080/"
        },
        "id": "WbFOIMST2OR3",
        "outputId": "b23febe2-3690-4af2-c60a-544dab292873"
      },
      "outputs": [
        {
          "output_type": "stream",
          "name": "stdout",
          "text": [
            "Generating training data\n",
            "x shape:  (9977, 12, 21, 2) , y shape:  (9977, 12, 21, 2)\n",
            "train x:  (6984, 12, 21, 2) y: (6984, 12, 21, 2)\n",
            "val x:  (998, 12, 21, 2) y: (998, 12, 21, 2)\n",
            "test x:  (1995, 12, 21, 2) y: (1995, 12, 21, 2)\n"
          ]
        }
      ],
      "source": [
        "!python -m scripts.generate_training_data --output_dir=data/METR-LA --traffic_df_filename=data/metr-la-subsampled-10000.h5"
      ]
    },
    {
      "cell_type": "code",
      "execution_count": null,
      "metadata": {
        "id": "ePKSq0pV25nI"
      },
      "outputs": [],
      "source": [
        "!python -m scripts.gen_adj_mx  --sensor_ids_filename=data/sensor_graph/graph_sensor_ids_subsampled.txt --normalized_k=0.1\\\n",
        "    --output_pkl_filename=data/sensor_graph/adj_mx.pkl"
      ]
    },
    {
      "cell_type": "markdown",
      "source": [
        "Warning: you are connected to a GPU runtime, but not utilizing the GPU"
      ],
      "metadata": {
        "id": "9XQ-MJWiZpgF"
      }
    },
    {
      "cell_type": "code",
      "source": [
        "!cat /etc/*release"
      ],
      "metadata": {
        "colab": {
          "base_uri": "https://localhost:8080/"
        },
        "id": "exSYhvxcJvvB",
        "outputId": "c430e059-f4fd-49f0-f034-475aad84f9de"
      },
      "execution_count": null,
      "outputs": [
        {
          "output_type": "stream",
          "name": "stdout",
          "text": [
            "DISTRIB_ID=Ubuntu\n",
            "DISTRIB_RELEASE=20.04\n",
            "DISTRIB_CODENAME=focal\n",
            "DISTRIB_DESCRIPTION=\"Ubuntu 20.04.5 LTS\"\n",
            "NAME=\"Ubuntu\"\n",
            "VERSION=\"20.04.5 LTS (Focal Fossa)\"\n",
            "ID=ubuntu\n",
            "ID_LIKE=debian\n",
            "PRETTY_NAME=\"Ubuntu 20.04.5 LTS\"\n",
            "VERSION_ID=\"20.04\"\n",
            "HOME_URL=\"https://www.ubuntu.com/\"\n",
            "SUPPORT_URL=\"https://help.ubuntu.com/\"\n",
            "BUG_REPORT_URL=\"https://bugs.launchpad.net/ubuntu/\"\n",
            "PRIVACY_POLICY_URL=\"https://www.ubuntu.com/legal/terms-and-policies/privacy-policy\"\n",
            "VERSION_CODENAME=focal\n",
            "UBUNTU_CODENAME=focal\n"
          ]
        }
      ]
    },
    {
      "cell_type": "code",
      "source": [
        "!wget https://developer.download.nvidia.com/compute/cuda/repos/ubuntu2004/x86_64/cuda-ubuntu2004.pin \n",
        "\n",
        "!sudo mv cuda-ubuntu2004.pin /etc/apt/preferences.d/cuda-repository-pin-600\n",
        "!sudo apt-key adv --fetch-keys https://developer.download.nvidia.com/compute/cuda/repos/ubuntu2004/x86_64/3bf863cc.pub\n",
        "!sudo add-apt-repository \"deb https://developer.download.nvidia.com/compute/cuda/repos/ubuntu2004/x86_64/ /\"\n",
        "!sudo apt-get update\n",
        "\n",
        "\n",
        "\n",
        "!sudo apt-get install libcudnn8=8.7.0.84-1+cuda11.8\n",
        "!sudo apt-get install libcudnn8-dev=8.7.0.84-1+cuda11.8"
      ],
      "metadata": {
        "colab": {
          "base_uri": "https://localhost:8080/"
        },
        "id": "hLnbYbzaJUiF",
        "outputId": "1e181f58-99ec-4260-dc60-0d3ff5435795"
      },
      "execution_count": null,
      "outputs": [
        {
          "output_type": "stream",
          "name": "stdout",
          "text": [
            "--2023-04-12 20:32:04--  https://developer.download.nvidia.com/compute/cuda/repos/ubuntu2004/x86_64/cuda-ubuntu2004.pin\n",
            "Resolving developer.download.nvidia.com (developer.download.nvidia.com)... 152.195.19.142\n",
            "Connecting to developer.download.nvidia.com (developer.download.nvidia.com)|152.195.19.142|:443... connected.\n",
            "HTTP request sent, awaiting response... 200 OK\n",
            "Length: 190 [application/octet-stream]\n",
            "Saving to: ‘cuda-ubuntu2004.pin’\n",
            "\n",
            "\rcuda-ubuntu2004.pin   0%[                    ]       0  --.-KB/s               \rcuda-ubuntu2004.pin 100%[===================>]     190  --.-KB/s    in 0s      \n",
            "\n",
            "2023-04-12 20:32:04 (1.70 MB/s) - ‘cuda-ubuntu2004.pin’ saved [190/190]\n",
            "\n",
            "Executing: /tmp/apt-key-gpghome.VbQHgVoA3d/gpg.1.sh --fetch-keys https://developer.download.nvidia.com/compute/cuda/repos/ubuntu2004/x86_64/3bf863cc.pub\n",
            "gpg: requesting key from 'https://developer.download.nvidia.com/compute/cuda/repos/ubuntu2004/x86_64/3bf863cc.pub'\n",
            "gpg: key A4B469963BF863CC: \"cudatools <cudatools@nvidia.com>\" not changed\n",
            "gpg: Total number processed: 1\n",
            "gpg:              unchanged: 1\n",
            "Hit:1 https://cloud.r-project.org/bin/linux/ubuntu focal-cran40/ InRelease\n",
            "Hit:2 http://archive.ubuntu.com/ubuntu focal InRelease\n",
            "Hit:3 http://archive.ubuntu.com/ubuntu focal-updates InRelease\n",
            "Hit:4 http://archive.ubuntu.com/ubuntu focal-backports InRelease\n",
            "Hit:5 https://developer.download.nvidia.com/compute/cuda/repos/ubuntu2004/x86_64  InRelease\n",
            "Hit:6 http://security.ubuntu.com/ubuntu focal-security InRelease\n",
            "Hit:7 http://ppa.launchpad.net/c2d4u.team/c2d4u4.0+/ubuntu focal InRelease\n",
            "Hit:8 http://ppa.launchpad.net/cran/libgit2/ubuntu focal InRelease\n",
            "Hit:9 http://ppa.launchpad.net/deadsnakes/ppa/ubuntu focal InRelease\n",
            "Hit:10 http://ppa.launchpad.net/graphics-drivers/ppa/ubuntu focal InRelease\n",
            "Hit:11 http://ppa.launchpad.net/ubuntugis/ppa/ubuntu focal InRelease\n",
            "Reading package lists... Done\n",
            "Hit:1 https://cloud.r-project.org/bin/linux/ubuntu focal-cran40/ InRelease\n",
            "Hit:2 http://security.ubuntu.com/ubuntu focal-security InRelease\n",
            "Hit:3 http://archive.ubuntu.com/ubuntu focal InRelease\n",
            "Hit:4 http://archive.ubuntu.com/ubuntu focal-updates InRelease\n",
            "Hit:5 http://archive.ubuntu.com/ubuntu focal-backports InRelease\n",
            "Hit:6 https://developer.download.nvidia.com/compute/cuda/repos/ubuntu2004/x86_64  InRelease\n",
            "Hit:7 http://ppa.launchpad.net/c2d4u.team/c2d4u4.0+/ubuntu focal InRelease\n",
            "Hit:8 http://ppa.launchpad.net/cran/libgit2/ubuntu focal InRelease\n",
            "Hit:9 http://ppa.launchpad.net/deadsnakes/ppa/ubuntu focal InRelease\n",
            "Hit:10 http://ppa.launchpad.net/graphics-drivers/ppa/ubuntu focal InRelease\n",
            "Hit:11 http://ppa.launchpad.net/ubuntugis/ppa/ubuntu focal InRelease\n",
            "Reading package lists... Done\n",
            "Reading package lists... Done\n",
            "Building dependency tree       \n",
            "Reading state information... Done\n",
            "libcudnn8 is already the newest version (8.7.0.84-1+cuda11.8).\n",
            "0 upgraded, 0 newly installed, 0 to remove and 30 not upgraded.\n",
            "Reading package lists... Done\n",
            "Building dependency tree       \n",
            "Reading state information... Done\n",
            "libcudnn8-dev is already the newest version (8.7.0.84-1+cuda11.8).\n",
            "0 upgraded, 0 newly installed, 0 to remove and 30 not upgraded.\n"
          ]
        }
      ]
    },
    {
      "cell_type": "code",
      "source": [
        "import tensorflow as tf\n",
        "print(tf.__version__)\n",
        "print(tf.config.experimental.list_physical_devices('GPU'))\n",
        "print(tf.test.gpu_device_name())"
      ],
      "metadata": {
        "colab": {
          "base_uri": "https://localhost:8080/"
        },
        "id": "3Xv6YE2vHrM2",
        "outputId": "8528a308-2df1-45a1-8c6c-422f79f3f353"
      },
      "execution_count": null,
      "outputs": [
        {
          "output_type": "stream",
          "name": "stdout",
          "text": [
            "2.12.0\n",
            "[]\n",
            "\n"
          ]
        }
      ]
    },
    {
      "cell_type": "code",
      "execution_count": null,
      "metadata": {
        "colab": {
          "base_uri": "https://localhost:8080/"
        },
        "id": "BVKTLxNQ5G2y",
        "outputId": "d29d14f9-9c49-4430-c164-a9cb7c9f052d"
      },
      "outputs": [
        {
          "output_type": "stream",
          "name": "stdout",
          "text": [
            "/usr/local/lib/python3.6/dist-packages/tensorflow/python/framework/dtypes.py:523: FutureWarning: Passing (type, 1) or '1type' as a synonym of type is deprecated; in a future version of numpy, it will be understood as (type, (1,)) / '(1,)type'.\n",
            "  _np_qint8 = np.dtype([(\"qint8\", np.int8, 1)])\n",
            "/usr/local/lib/python3.6/dist-packages/tensorflow/python/framework/dtypes.py:524: FutureWarning: Passing (type, 1) or '1type' as a synonym of type is deprecated; in a future version of numpy, it will be understood as (type, (1,)) / '(1,)type'.\n",
            "  _np_quint8 = np.dtype([(\"quint8\", np.uint8, 1)])\n",
            "/usr/local/lib/python3.6/dist-packages/tensorflow/python/framework/dtypes.py:525: FutureWarning: Passing (type, 1) or '1type' as a synonym of type is deprecated; in a future version of numpy, it will be understood as (type, (1,)) / '(1,)type'.\n",
            "  _np_qint16 = np.dtype([(\"qint16\", np.int16, 1)])\n",
            "/usr/local/lib/python3.6/dist-packages/tensorflow/python/framework/dtypes.py:526: FutureWarning: Passing (type, 1) or '1type' as a synonym of type is deprecated; in a future version of numpy, it will be understood as (type, (1,)) / '(1,)type'.\n",
            "  _np_quint16 = np.dtype([(\"quint16\", np.uint16, 1)])\n",
            "/usr/local/lib/python3.6/dist-packages/tensorflow/python/framework/dtypes.py:527: FutureWarning: Passing (type, 1) or '1type' as a synonym of type is deprecated; in a future version of numpy, it will be understood as (type, (1,)) / '(1,)type'.\n",
            "  _np_qint32 = np.dtype([(\"qint32\", np.int32, 1)])\n",
            "/usr/local/lib/python3.6/dist-packages/tensorflow/python/framework/dtypes.py:532: FutureWarning: Passing (type, 1) or '1type' as a synonym of type is deprecated; in a future version of numpy, it will be understood as (type, (1,)) / '(1,)type'.\n",
            "  np_resource = np.dtype([(\"resource\", np.ubyte, 1)])\n",
            "dcrnn_train.py:15: YAMLLoadWarning: calling yaml.load() without Loader=... is deprecated, as the default Loader is unsafe. Please read https://msg.pyyaml.org/load for full details.\n",
            "  supervisor_config = yaml.load(f)\n",
            "2023-04-12 20:38:52.497479: I tensorflow/core/platform/cpu_feature_guard.cc:141] Your CPU supports instructions that this TensorFlow binary was not compiled to use: AVX2 FMA\n",
            "2023-04-12 20:38:52,499 - INFO - Log directory: data/model/dcrnn_DR_2_h_12_64-64_lr_0.01_bs_64_0412110018/\n",
            "2023-04-12 20:38:52,506 - INFO - {'base_dir': 'data/model', 'data': {'batch_size': 64, 'dataset_dir': 'data/METR-LA', 'graph_pkl_filename': 'data/sensor_graph/adj_mx.pkl', 'test_batch_size': 64, 'val_batch_size': 64}, 'log_level': 'INFO', 'model': {'cl_decay_steps': 2000, 'filter_type': 'dual_random_walk', 'horizon': 12, 'input_dim': 2, 'l1_decay': 0, 'max_diffusion_step': 2, 'num_nodes': 21, 'num_rnn_layers': 2, 'output_dim': 1, 'rnn_units': 64, 'seq_len': 12, 'use_curriculum_learning': True}, 'train': {'base_lr': 0.01, 'dropout': 0, 'epoch': 31, 'epochs': 100, 'epsilon': 0.001, 'global_step': 3520, 'log_dir': 'data/model/dcrnn_DR_2_h_12_64-64_lr_0.01_bs_64_0412110018/', 'lr_decay_ratio': 0.1, 'max_grad_norm': 5, 'max_to_keep': 100, 'min_learning_rate': 2e-06, 'model_filename': 'data/model/dcrnn_DR_2_h_12_64-64_lr_0.01_bs_64_0412110018/models-3.1879-3520', 'optimizer': 'adam', 'patience': 50, 'steps': [20, 30, 40, 50], 'test_every_n_epochs': 10}}\n",
            "2023-04-12 20:38:52,882 - INFO - ('x_train', (6984, 12, 21, 2))\n",
            "2023-04-12 20:38:52,882 - INFO - ('y_train', (6984, 12, 21, 2))\n",
            "2023-04-12 20:38:52,882 - INFO - ('x_val', (998, 12, 21, 2))\n",
            "2023-04-12 20:38:52,882 - INFO - ('y_val', (998, 12, 21, 2))\n",
            "2023-04-12 20:38:52,883 - INFO - ('x_test', (1995, 12, 21, 2))\n",
            "2023-04-12 20:38:52,883 - INFO - ('y_test', (1995, 12, 21, 2))\n",
            "WARNING:tensorflow:At least two cells provided to MultiRNNCell are the same object and will share weights.\n",
            "2023-04-12 20:39:10,071 - INFO - Total number of trainable parameters: 372352\n",
            "2023-04-12 20:39:10,857 - INFO - Start training ...\n",
            "Traceback (most recent call last):\n",
            "  File \"dcrnn_train.py\", line 36, in <module>\n",
            "    main(args)\n",
            "  File \"dcrnn_train.py\", line 27, in main\n",
            "    supervisor.train(sess=sess)\n",
            "  File \"/content/drive/MyDrive/deep_learning/model/dcrnn_supervisor.py\", line 186, in train\n",
            "    return self._train(sess, **kwargs)\n",
            "  File \"/content/drive/MyDrive/deep_learning/model/dcrnn_supervisor.py\", line 214, in _train\n",
            "    writer=self._writer)\n",
            "  File \"/content/drive/MyDrive/deep_learning/model/dcrnn_supervisor.py\", line 159, in run_epoch_generator\n",
            "    vals = sess.run(fetches, feed_dict=feed_dict)\n",
            "  File \"/usr/local/lib/python3.6/dist-packages/tensorflow/python/client/session.py\", line 887, in run\n",
            "    run_metadata_ptr)\n",
            "  File \"/usr/local/lib/python3.6/dist-packages/tensorflow/python/client/session.py\", line 1110, in _run\n",
            "    feed_dict_tensor, options, run_metadata)\n",
            "  File \"/usr/local/lib/python3.6/dist-packages/tensorflow/python/client/session.py\", line 1286, in _do_run\n",
            "    run_metadata)\n",
            "  File \"/usr/local/lib/python3.6/dist-packages/tensorflow/python/client/session.py\", line 1292, in _do_call\n",
            "    return fn(*args)\n",
            "  File \"/usr/local/lib/python3.6/dist-packages/tensorflow/python/client/session.py\", line 1277, in _run_fn\n",
            "    options, feed_dict, fetch_list, target_list, run_metadata)\n",
            "  File \"/usr/local/lib/python3.6/dist-packages/tensorflow/python/client/session.py\", line 1367, in _call_tf_sessionrun\n",
            "    run_metadata)\n",
            "KeyboardInterrupt\n"
          ]
        }
      ],
      "source": [
        "!python dcrnn_train.py --config_filename=data/model/dcrnn_DR_2_h_12_64-64_lr_0.01_bs_64_0412110018/config_31.yaml"
      ]
    },
    {
      "cell_type": "code",
      "execution_count": null,
      "metadata": {
        "colab": {
          "base_uri": "https://localhost:8080/"
        },
        "id": "r9Y38lSX3C24",
        "outputId": "71a3a547-c123-4323-dbef-8b591e021afa"
      },
      "outputs": [
        {
          "output_type": "stream",
          "name": "stdout",
          "text": [
            "/usr/local/lib/python3.6/dist-packages/tensorflow/python/framework/dtypes.py:523: FutureWarning: Passing (type, 1) or '1type' as a synonym of type is deprecated; in a future version of numpy, it will be understood as (type, (1,)) / '(1,)type'.\n",
            "  _np_qint8 = np.dtype([(\"qint8\", np.int8, 1)])\n",
            "/usr/local/lib/python3.6/dist-packages/tensorflow/python/framework/dtypes.py:524: FutureWarning: Passing (type, 1) or '1type' as a synonym of type is deprecated; in a future version of numpy, it will be understood as (type, (1,)) / '(1,)type'.\n",
            "  _np_quint8 = np.dtype([(\"quint8\", np.uint8, 1)])\n",
            "/usr/local/lib/python3.6/dist-packages/tensorflow/python/framework/dtypes.py:525: FutureWarning: Passing (type, 1) or '1type' as a synonym of type is deprecated; in a future version of numpy, it will be understood as (type, (1,)) / '(1,)type'.\n",
            "  _np_qint16 = np.dtype([(\"qint16\", np.int16, 1)])\n",
            "/usr/local/lib/python3.6/dist-packages/tensorflow/python/framework/dtypes.py:526: FutureWarning: Passing (type, 1) or '1type' as a synonym of type is deprecated; in a future version of numpy, it will be understood as (type, (1,)) / '(1,)type'.\n",
            "  _np_quint16 = np.dtype([(\"quint16\", np.uint16, 1)])\n",
            "/usr/local/lib/python3.6/dist-packages/tensorflow/python/framework/dtypes.py:527: FutureWarning: Passing (type, 1) or '1type' as a synonym of type is deprecated; in a future version of numpy, it will be understood as (type, (1,)) / '(1,)type'.\n",
            "  _np_qint32 = np.dtype([(\"qint32\", np.int32, 1)])\n",
            "/usr/local/lib/python3.6/dist-packages/tensorflow/python/framework/dtypes.py:532: FutureWarning: Passing (type, 1) or '1type' as a synonym of type is deprecated; in a future version of numpy, it will be understood as (type, (1,)) / '(1,)type'.\n",
            "  np_resource = np.dtype([(\"resource\", np.ubyte, 1)])\n",
            "run_demo.py:14: YAMLLoadWarning: calling yaml.load() without Loader=... is deprecated, as the default Loader is unsafe. Please read https://msg.pyyaml.org/load for full details.\n",
            "  config = yaml.load(f)\n",
            "2023-04-12 13:50:27.732840: I tensorflow/core/platform/cpu_feature_guard.cc:141] Your CPU supports instructions that this TensorFlow binary was not compiled to use: AVX2 AVX512F FMA\n",
            "2023-04-12 13:50:27,735 - INFO - Log directory: data/model/dcrnn_DR_2_h_12_64-64_lr_0.01_bs_64_0412110018/\n",
            "2023-04-12 13:50:28,278 - INFO - {'base_dir': 'data/model', 'data': {'batch_size': 64, 'dataset_dir': 'data/METR-LA', 'graph_pkl_filename': 'data/sensor_graph/adj_mx.pkl', 'test_batch_size': 64, 'val_batch_size': 64}, 'log_level': 'INFO', 'model': {'cl_decay_steps': 2000, 'filter_type': 'dual_random_walk', 'horizon': 12, 'input_dim': 2, 'l1_decay': 0, 'max_diffusion_step': 2, 'num_nodes': 21, 'num_rnn_layers': 2, 'output_dim': 1, 'rnn_units': 64, 'seq_len': 12, 'use_curriculum_learning': True}, 'train': {'base_lr': 0.01, 'dropout': 0, 'epoch': 8, 'epochs': 100, 'epsilon': 0.001, 'global_step': 990, 'log_dir': 'data/model/dcrnn_DR_2_h_12_64-64_lr_0.01_bs_64_0412110018/', 'lr_decay_ratio': 0.1, 'max_grad_norm': 5, 'max_to_keep': 100, 'min_learning_rate': 2e-06, 'model_filename': 'data/model/dcrnn_DR_2_h_12_64-64_lr_0.01_bs_64_0412110018/models-3.4182-990', 'optimizer': 'adam', 'patience': 50, 'steps': [20, 30, 40, 50], 'test_every_n_epochs': 10}}\n",
            "2023-04-12 13:50:31,657 - INFO - ('x_train', (6984, 12, 21, 2))\n",
            "2023-04-12 13:50:31,658 - INFO - ('y_train', (6984, 12, 21, 2))\n",
            "2023-04-12 13:50:31,658 - INFO - ('x_val', (998, 12, 21, 2))\n",
            "2023-04-12 13:50:31,658 - INFO - ('y_val', (998, 12, 21, 2))\n",
            "2023-04-12 13:50:31,658 - INFO - ('x_test', (1995, 12, 21, 2))\n",
            "2023-04-12 13:50:31,658 - INFO - ('y_test', (1995, 12, 21, 2))\n",
            "WARNING:tensorflow:At least two cells provided to MultiRNNCell are the same object and will share weights.\n",
            "2023-04-12 13:50:50,113 - INFO - Total number of trainable parameters: 372352\n",
            "2023-04-12 13:52:40,734 - INFO - Horizon 01, MAE: 2.97, MAPE: 66776267183961.6016, RMSE: 8.10\n",
            "2023-04-12 13:52:40,737 - INFO - Horizon 02, MAE: 3.29, MAPE: 72294096451038.8438, RMSE: 8.86\n",
            "2023-04-12 13:52:40,740 - INFO - Horizon 03, MAE: 3.47, MAPE: 72499899305984.1562, RMSE: 9.24\n",
            "2023-04-12 13:52:40,742 - INFO - Horizon 04, MAE: 3.76, MAPE: 80141245179702.5156, RMSE: 9.93\n",
            "2023-04-12 13:52:40,744 - INFO - Horizon 05, MAE: 3.96, MAPE: 83515910735474.7969, RMSE: 10.35\n",
            "2023-04-12 13:52:40,747 - INFO - Horizon 06, MAE: 4.15, MAPE: 86621879338938.9062, RMSE: 10.70\n",
            "2023-04-12 13:52:40,749 - INFO - Horizon 07, MAE: 4.37, MAPE: 93032099414899.9062, RMSE: 11.16\n",
            "2023-04-12 13:52:40,752 - INFO - Horizon 08, MAE: 4.54, MAPE: 95970614476096.9375, RMSE: 11.47\n",
            "2023-04-12 13:52:40,754 - INFO - Horizon 09, MAE: 4.73, MAPE: 101024549170762.7656, RMSE: 11.83\n",
            "2023-04-12 13:52:40,756 - INFO - Horizon 10, MAE: 4.86, MAPE: 101808169138365.3125, RMSE: 12.02\n",
            "2023-04-12 13:52:40,759 - INFO - Horizon 11, MAE: 5.03, MAPE: 107639343673873.5156, RMSE: 12.35\n",
            "2023-04-12 13:52:40,761 - INFO - Horizon 12, MAE: 5.17, MAPE: 108710018759745.5781, RMSE: 12.55\n",
            "Predictions saved as data/dcrnn_predictions.npz.\n"
          ]
        }
      ],
      "source": [
        "!python run_demo.py --config_filename=data/model/dcrnn_DR_2_h_12_64-64_lr_0.01_bs_64_0412110018/config_8.yaml"
      ]
    },
    {
      "cell_type": "code",
      "execution_count": null,
      "metadata": {
        "id": "jmkFBgX_vvYn"
      },
      "outputs": [],
      "source": [
        "import numpy as np\n",
        "data = np.load('data/dcrnn_predictions.npz')"
      ]
    },
    {
      "cell_type": "code",
      "source": [
        "for k in data.keys():\n",
        "  print(k)"
      ],
      "metadata": {
        "colab": {
          "base_uri": "https://localhost:8080/"
        },
        "id": "mnzV5cMetS9Y",
        "outputId": "668d58d3-96d8-4ea2-cbdb-c29d9acc74aa"
      },
      "execution_count": null,
      "outputs": [
        {
          "output_type": "stream",
          "name": "stdout",
          "text": [
            "predictions\n",
            "groundtruth\n"
          ]
        }
      ]
    },
    {
      "cell_type": "code",
      "source": [
        "data['groundtruth'].shape"
      ],
      "metadata": {
        "colab": {
          "base_uri": "https://localhost:8080/"
        },
        "id": "cztZ7mX6taEu",
        "outputId": "fd0294ca-0b90-4d8d-b940-cb662e28069f"
      },
      "execution_count": null,
      "outputs": [
        {
          "output_type": "execute_result",
          "data": {
            "text/plain": [
              "(12, 195, 5)"
            ]
          },
          "metadata": {},
          "execution_count": 18
        }
      ]
    },
    {
      "cell_type": "code",
      "source": [
        "data['groundtruth'][:, :2, 0]"
      ],
      "metadata": {
        "colab": {
          "base_uri": "https://localhost:8080/"
        },
        "id": "jNA_rwTBxFWc",
        "outputId": "22ca4629-361f-4f74-cc64-28c9f41d013e"
      },
      "execution_count": null,
      "outputs": [
        {
          "output_type": "execute_result",
          "data": {
            "text/plain": [
              "array([[63.75      , 62.44444444],\n",
              "       [62.44444444, 64.88888889],\n",
              "       [64.88888889, 63.625     ],\n",
              "       [63.625     , 63.44444444],\n",
              "       [63.44444444, 64.33333333],\n",
              "       [64.33333333, 62.125     ],\n",
              "       [62.125     , 65.125     ],\n",
              "       [65.125     , 63.33333333],\n",
              "       [63.33333333, 64.25      ],\n",
              "       [64.25      , 64.77777778],\n",
              "       [64.77777778, 64.125     ],\n",
              "       [64.125     , 63.625     ]])"
            ]
          },
          "metadata": {},
          "execution_count": 20
        }
      ]
    },
    {
      "cell_type": "code",
      "source": [
        "data['predictions'][:, :2, 0]"
      ],
      "metadata": {
        "colab": {
          "base_uri": "https://localhost:8080/"
        },
        "id": "WXd7iMd1yIc7",
        "outputId": "733dcb78-4466-49cf-df4c-00c277d44453"
      },
      "execution_count": null,
      "outputs": [
        {
          "output_type": "execute_result",
          "data": {
            "text/plain": [
              "array([[65.12515 , 64.43086 ],\n",
              "       [64.99149 , 63.45688 ],\n",
              "       [65.19585 , 63.70511 ],\n",
              "       [64.99879 , 63.713478],\n",
              "       [64.50021 , 62.99489 ],\n",
              "       [64.32897 , 63.11741 ],\n",
              "       [64.23418 , 63.104122],\n",
              "       [64.22785 , 63.139816],\n",
              "       [64.051506, 63.107903],\n",
              "       [63.93955 , 63.118523],\n",
              "       [63.785236, 63.131516],\n",
              "       [63.649647, 63.162304]], dtype=float32)"
            ]
          },
          "metadata": {},
          "execution_count": 21
        }
      ]
    },
    {
      "cell_type": "code",
      "source": [
        "!pip freeze"
      ],
      "metadata": {
        "id": "7LWYZoPNyR84"
      },
      "execution_count": null,
      "outputs": []
    },
    {
      "cell_type": "code",
      "source": [],
      "metadata": {
        "id": "n3Qe37WiYYzp"
      },
      "execution_count": null,
      "outputs": []
    }
  ],
  "metadata": {
    "accelerator": "GPU",
    "colab": {
      "provenance": []
    },
    "gpuClass": "standard",
    "kernelspec": {
      "display_name": "Python 3",
      "name": "python3"
    },
    "language_info": {
      "name": "python"
    }
  },
  "nbformat": 4,
  "nbformat_minor": 0
}